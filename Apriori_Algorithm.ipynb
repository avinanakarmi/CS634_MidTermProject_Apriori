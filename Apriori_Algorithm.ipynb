{
  "cells": [
    {
      "cell_type": "markdown",
      "metadata": {
        "id": "jUSYoa3kullz"
      },
      "source": [
        "**Utility functions**"
      ]
    },
    {
      "cell_type": "code",
      "execution_count": 25,
      "metadata": {
        "colab": {
          "base_uri": "https://localhost:8080/"
        },
        "id": "OFjvWpm5y4fE",
        "outputId": "4ec9753a-bb39-472d-91d0-450f17255562"
      },
      "outputs": [
        {
          "name": "stderr",
          "output_type": "stream",
          "text": [
            "/usr/local/lib/python3.10/dist-packages/ipykernel/ipkernel.py:283: DeprecationWarning: `should_run_async` will not call `transform_cell` automatically in the future. Please pass the result to `transformed_cell` argument and any exception that happen during thetransform in `preprocessing_exc_tuple` in IPython 7.17 and above.\n",
            "  and should_run_async(code)\n"
          ]
        }
      ],
      "source": [
        "def do_while(check_condition, action):\n",
        "  action()\n",
        "  while check_condition():\n",
        "    action()"
      ]
    },
    {
      "cell_type": "markdown",
      "metadata": {
        "id": "J0WKcS4qy6W_"
      },
      "source": [
        "# Data Selection"
      ]
    },
    {
      "cell_type": "code",
      "execution_count": 26,
      "metadata": {
        "colab": {
          "base_uri": "https://localhost:8080/"
        },
        "id": "TPCRIjyWurSs",
        "outputId": "a46b9487-9a67-4efc-8546-67b07a8a4061"
      },
      "outputs": [
        {
          "name": "stderr",
          "output_type": "stream",
          "text": [
            "/usr/local/lib/python3.10/dist-packages/ipykernel/ipkernel.py:283: DeprecationWarning: `should_run_async` will not call `transform_cell` automatically in the future. Please pass the result to `transformed_cell` argument and any exception that happen during thetransform in `preprocessing_exc_tuple` in IPython 7.17 and above.\n",
            "  and should_run_async(code)\n"
          ]
        },
        {
          "name": "stdout",
          "output_type": "stream",
          "text": [
            "Select a dataset: \n",
            "\n",
            " 1. Amazon \n",
            " 2. Best Buy \n",
            " 3. K-mart \n",
            " 4. Nike \n",
            " 5. Custom \n",
            " 6. Generic \n",
            "5\n",
            "You selected:  Custom\n"
          ]
        }
      ],
      "source": [
        "datasets = {\n",
        "  '1': 'Amazon',\n",
        "  '2': 'Best Buy',\n",
        "  '3': 'K-Mart',\n",
        "  '4': 'Nike',\n",
        "  '5': 'Custom',\n",
        "  '6': 'Generic',\n",
        "}\n",
        "\n",
        "\n",
        "dataset = 0\n",
        "attempted = 0\n",
        "\n",
        "def read_dataset_input():\n",
        "  global attempted, dataset\n",
        "  print(\"Invalid selection. Try again. \\n\") if attempted > 0 else print(\"Select a dataset: \\n\")\n",
        "  attempted += 1\n",
        "  dataset = input(\" 1. Amazon \\n 2. Best Buy \\n 3. K-mart \\n 4. Nike \\n 5. Custom \\n 6. Generic \\n\")\n",
        "  if dataset in datasets.keys(): print(\"You selected: \", datasets[dataset])\n",
        "\n",
        "input_read_condition = lambda: dataset not in datasets.keys()\n",
        "do_while(input_read_condition, read_dataset_input)\n"
      ]
    },
    {
      "cell_type": "markdown",
      "metadata": {
        "id": "OFzgAedDxEO_"
      },
      "source": [
        "# Defining support and confidence"
      ]
    },
    {
      "cell_type": "code",
      "execution_count": 27,
      "metadata": {
        "colab": {
          "base_uri": "https://localhost:8080/"
        },
        "id": "ekDkrNdzxH6S",
        "outputId": "ab7715c4-2e33-4f86-81f1-4397be4ac3e7"
      },
      "outputs": [
        {
          "name": "stderr",
          "output_type": "stream",
          "text": [
            "/usr/local/lib/python3.10/dist-packages/ipykernel/ipkernel.py:283: DeprecationWarning: `should_run_async` will not call `transform_cell` automatically in the future. Please pass the result to `transformed_cell` argument and any exception that happen during thetransform in `preprocessing_exc_tuple` in IPython 7.17 and above.\n",
            "  and should_run_async(code)\n"
          ]
        },
        {
          "name": "stdout",
          "output_type": "stream",
          "text": [
            "Enter support threshold: 0.5\n",
            "Enter confidence threshold: 0.5\n",
            "Generating association rules for  Custom  dataset with support:  0.5  and confidence:  0.5\n"
          ]
        }
      ],
      "source": [
        "support = None\n",
        "confidence = None\n",
        "\n",
        "def read_threshold():\n",
        "  global support, confidence\n",
        "  support = input(\"Enter support threshold: \")\n",
        "  confidence = input(\"Enter confidence threshold: \")\n",
        "\n",
        "def threshold_read_condition():\n",
        "  global support, confidence\n",
        "  try:\n",
        "    support = float(support)\n",
        "    confidence = float(confidence)\n",
        "  except ValueError:\n",
        "    print(\"Invalid input type. Try again.\")\n",
        "    return True\n",
        "  if 0 <= support <= 1 and 0 <= confidence <= 1:\n",
        "    return False\n",
        "  print(\"Invalid input range. Try again.\")\n",
        "  return True\n",
        "do_while(threshold_read_condition, read_threshold)\n",
        "\n",
        "print(\"Generating association rules for \", datasets[dataset], \" dataset with support: \", support, \" and confidence: \", confidence)"
      ]
    },
    {
      "cell_type": "markdown",
      "metadata": {
        "id": "S8jgwrT466-S"
      },
      "source": [
        "# Reading Transactions"
      ]
    },
    {
      "cell_type": "code",
      "execution_count": 29,
      "metadata": {
        "colab": {
          "base_uri": "https://localhost:8080/"
        },
        "id": "VtzxaB7Z7uwt",
        "outputId": "26ff34f0-db27-4a10-cc88-5ad45e9c2eb9"
      },
      "outputs": [
        {
          "name": "stdout",
          "output_type": "stream",
          "text": [
            "                Transactions\n",
            "0     ink, pen, cheese, bag \n",
            "1  milk, pen, juice, cheese \n",
            "2               milk, juice \n",
            "3       juice, milk, cheese \n",
            "4     ink, pen, cheese, bag \n",
            "5  milk, pen, juice, cheese \n"
          ]
        },
        {
          "name": "stderr",
          "output_type": "stream",
          "text": [
            "/usr/local/lib/python3.10/dist-packages/ipykernel/ipkernel.py:283: DeprecationWarning: `should_run_async` will not call `transform_cell` automatically in the future. Please pass the result to `transformed_cell` argument and any exception that happen during thetransform in `preprocessing_exc_tuple` in IPython 7.17 and above.\n",
            "  and should_run_async(code)\n"
          ]
        }
      ],
      "source": [
        "import pandas as pd\n",
        "\n",
        "raw_dataset = pd.read_csv('./datasets/' + datasets[dataset] + '.csv', usecols=[1])\n",
        "transactions_list = [transaction[0].split(',') for transaction in raw_dataset.values.tolist()]\n",
        "transactions_list = [[item.strip() for item in transaction] for transaction in transactions_list]\n",
        "\n",
        "print(raw_dataset)"
      ]
    },
    {
      "cell_type": "markdown",
      "metadata": {
        "id": "2FsPFn9d6nkw"
      },
      "source": [
        "# Arpiori Using Package"
      ]
    },
    {
      "cell_type": "code",
      "execution_count": 30,
      "metadata": {
        "colab": {
          "base_uri": "https://localhost:8080/"
        },
        "id": "uilnmwYuCO4q",
        "outputId": "3eb84e8e-a663-480f-b529-dc62d76221e7"
      },
      "outputs": [
        {
          "name": "stderr",
          "output_type": "stream",
          "text": [
            "/usr/local/lib/python3.10/dist-packages/ipykernel/ipkernel.py:283: DeprecationWarning: `should_run_async` will not call `transform_cell` automatically in the future. Please pass the result to `transformed_cell` argument and any exception that happen during thetransform in `preprocessing_exc_tuple` in IPython 7.17 and above.\n",
            "  and should_run_async(code)\n"
          ]
        }
      ],
      "source": [
        "import time"
      ]
    },
    {
      "cell_type": "code",
      "execution_count": 31,
      "metadata": {
        "colab": {
          "base_uri": "https://localhost:8080/"
        },
        "id": "y84DS-sp6rQQ",
        "outputId": "64262c38-57a8-434d-8e28-ed72f19f8445"
      },
      "outputs": [
        {
          "name": "stderr",
          "output_type": "stream",
          "text": [
            "/usr/local/lib/python3.10/dist-packages/ipykernel/ipkernel.py:283: DeprecationWarning: `should_run_async` will not call `transform_cell` automatically in the future. Please pass the result to `transformed_cell` argument and any exception that happen during thetransform in `preprocessing_exc_tuple` in IPython 7.17 and above.\n",
            "  and should_run_async(code)\n"
          ]
        },
        {
          "name": "stdout",
          "output_type": "stream",
          "text": [
            "Requirement already satisfied: mlxtend in /usr/local/lib/python3.10/dist-packages (0.23.1)\n",
            "Requirement already satisfied: scipy>=1.2.1 in /usr/local/lib/python3.10/dist-packages (from mlxtend) (1.13.1)\n",
            "Requirement already satisfied: numpy>=1.16.2 in /usr/local/lib/python3.10/dist-packages (from mlxtend) (1.26.4)\n",
            "Requirement already satisfied: pandas>=0.24.2 in /usr/local/lib/python3.10/dist-packages (from mlxtend) (2.1.4)\n",
            "Requirement already satisfied: scikit-learn>=1.0.2 in /usr/local/lib/python3.10/dist-packages (from mlxtend) (1.3.2)\n",
            "Requirement already satisfied: matplotlib>=3.0.0 in /usr/local/lib/python3.10/dist-packages (from mlxtend) (3.7.1)\n",
            "Requirement already satisfied: joblib>=0.13.2 in /usr/local/lib/python3.10/dist-packages (from mlxtend) (1.4.2)\n",
            "Requirement already satisfied: contourpy>=1.0.1 in /usr/local/lib/python3.10/dist-packages (from matplotlib>=3.0.0->mlxtend) (1.3.0)\n",
            "Requirement already satisfied: cycler>=0.10 in /usr/local/lib/python3.10/dist-packages (from matplotlib>=3.0.0->mlxtend) (0.12.1)\n",
            "Requirement already satisfied: fonttools>=4.22.0 in /usr/local/lib/python3.10/dist-packages (from matplotlib>=3.0.0->mlxtend) (4.53.1)\n",
            "Requirement already satisfied: kiwisolver>=1.0.1 in /usr/local/lib/python3.10/dist-packages (from matplotlib>=3.0.0->mlxtend) (1.4.7)\n",
            "Requirement already satisfied: packaging>=20.0 in /usr/local/lib/python3.10/dist-packages (from matplotlib>=3.0.0->mlxtend) (24.1)\n",
            "Requirement already satisfied: pillow>=6.2.0 in /usr/local/lib/python3.10/dist-packages (from matplotlib>=3.0.0->mlxtend) (9.4.0)\n",
            "Requirement already satisfied: pyparsing>=2.3.1 in /usr/local/lib/python3.10/dist-packages (from matplotlib>=3.0.0->mlxtend) (3.1.4)\n",
            "Requirement already satisfied: python-dateutil>=2.7 in /usr/local/lib/python3.10/dist-packages (from matplotlib>=3.0.0->mlxtend) (2.8.2)\n",
            "Requirement already satisfied: pytz>=2020.1 in /usr/local/lib/python3.10/dist-packages (from pandas>=0.24.2->mlxtend) (2024.2)\n",
            "Requirement already satisfied: tzdata>=2022.1 in /usr/local/lib/python3.10/dist-packages (from pandas>=0.24.2->mlxtend) (2024.1)\n",
            "Requirement already satisfied: threadpoolctl>=2.0.0 in /usr/local/lib/python3.10/dist-packages (from scikit-learn>=1.0.2->mlxtend) (3.5.0)\n",
            "Requirement already satisfied: six>=1.5 in /usr/local/lib/python3.10/dist-packages (from python-dateutil>=2.7->matplotlib>=3.0.0->mlxtend) (1.16.0)\n"
          ]
        }
      ],
      "source": [
        "pip install mlxtend"
      ]
    },
    {
      "cell_type": "code",
      "execution_count": 32,
      "metadata": {
        "colab": {
          "base_uri": "https://localhost:8080/"
        },
        "id": "VgO5jaqA6xqf",
        "outputId": "2ecfdac4-9576-4151-ceca-36047ca65b9e"
      },
      "outputs": [
        {
          "name": "stdout",
          "output_type": "stream",
          "text": [
            "        Antecedents      Consequents   Support  Confidence\n",
            "0             (pen)         (cheese)  0.666667        1.00\n",
            "1          (cheese)            (pen)  0.666667        0.80\n",
            "2           (juice)           (milk)  0.666667        1.00\n",
            "3            (milk)          (juice)  0.666667        1.00\n",
            "4           (juice)         (cheese)  0.500000        0.75\n",
            "5          (cheese)          (juice)  0.500000        0.60\n",
            "6            (milk)         (cheese)  0.500000        0.75\n",
            "7          (cheese)           (milk)  0.500000        0.60\n",
            "8     (juice, milk)         (cheese)  0.500000        0.75\n",
            "9   (juice, cheese)           (milk)  0.500000        1.00\n",
            "10   (milk, cheese)          (juice)  0.500000        1.00\n",
            "11          (juice)   (milk, cheese)  0.500000        0.75\n",
            "12           (milk)  (juice, cheese)  0.500000        0.75\n",
            "13         (cheese)    (juice, milk)  0.500000        0.60\n",
            "Time taken:  0.02274775505065918  seconds\n"
          ]
        },
        {
          "name": "stderr",
          "output_type": "stream",
          "text": [
            "/usr/local/lib/python3.10/dist-packages/ipykernel/ipkernel.py:283: DeprecationWarning: `should_run_async` will not call `transform_cell` automatically in the future. Please pass the result to `transformed_cell` argument and any exception that happen during thetransform in `preprocessing_exc_tuple` in IPython 7.17 and above.\n",
            "  and should_run_async(code)\n"
          ]
        }
      ],
      "source": [
        "from mlxtend.frequent_patterns import apriori, association_rules\n",
        "\n",
        "start_time = time.time()\n",
        "\n",
        "all_items = set(item for sublist in transactions_list for item in sublist)\n",
        "\n",
        "df = pd.DataFrame([{item: (item in transaction) for item in all_items} for transaction in transactions_list])\n",
        "\n",
        "frequent_itemsets = apriori(df, min_support=support, use_colnames=True)\n",
        "\n",
        "rules = association_rules(frequent_itemsets, metric=\"confidence\", min_threshold=confidence)\n",
        "\n",
        "rules_sorted = rules.sort_values(by='lift', ascending=False)\n",
        "\n",
        "rules_filtered = rules[['antecedents', 'consequents', 'support', 'confidence']]\n",
        "rules_filtered.columns = ['Antecedents', 'Consequents', 'Support', 'Confidence']\n",
        "\n",
        "print(rules_filtered)\n",
        "\n",
        "end_time = time.time()\n",
        "print(\"Time taken: \", end_time - start_time, \" seconds\")"
      ]
    },
    {
      "cell_type": "markdown",
      "metadata": {
        "id": "sSdpGqyN6yOg"
      },
      "source": [
        "# FP-growth Using Package"
      ]
    },
    {
      "cell_type": "code",
      "execution_count": 33,
      "metadata": {
        "colab": {
          "base_uri": "https://localhost:8080/"
        },
        "id": "0gUsbdkTBVmF",
        "outputId": "676f7409-b35a-4532-e0b4-490d33791814"
      },
      "outputs": [
        {
          "name": "stdout",
          "output_type": "stream",
          "text": [
            "        Antecedents      Consequents   Support  Confidence\n",
            "0             (pen)         (cheese)  0.666667        1.00\n",
            "1          (cheese)            (pen)  0.666667        0.80\n",
            "2            (milk)         (cheese)  0.500000        0.75\n",
            "3          (cheese)           (milk)  0.500000        0.60\n",
            "4           (juice)           (milk)  0.666667        1.00\n",
            "5            (milk)          (juice)  0.666667        1.00\n",
            "6           (juice)         (cheese)  0.500000        0.75\n",
            "7          (cheese)          (juice)  0.500000        0.60\n",
            "8     (juice, milk)         (cheese)  0.500000        0.75\n",
            "9   (juice, cheese)           (milk)  0.500000        1.00\n",
            "10   (milk, cheese)          (juice)  0.500000        1.00\n",
            "11          (juice)   (milk, cheese)  0.500000        0.75\n",
            "12           (milk)  (juice, cheese)  0.500000        0.75\n",
            "13         (cheese)    (juice, milk)  0.500000        0.60\n",
            "Time taken:  0.01715230941772461  seconds\n"
          ]
        },
        {
          "name": "stderr",
          "output_type": "stream",
          "text": [
            "/usr/local/lib/python3.10/dist-packages/ipykernel/ipkernel.py:283: DeprecationWarning: `should_run_async` will not call `transform_cell` automatically in the future. Please pass the result to `transformed_cell` argument and any exception that happen during thetransform in `preprocessing_exc_tuple` in IPython 7.17 and above.\n",
            "  and should_run_async(code)\n"
          ]
        }
      ],
      "source": [
        "from mlxtend.frequent_patterns import fpgrowth, association_rules\n",
        "\n",
        "start_time = time.time()\n",
        "frequent_itemsets = fpgrowth(df, min_support=support, use_colnames=True)\n",
        "\n",
        "rules = association_rules(frequent_itemsets, metric=\"confidence\", min_threshold=confidence)\n",
        "\n",
        "rules_filtered = rules[['antecedents', 'consequents', 'support', 'confidence']]\n",
        "rules_filtered.columns = ['Antecedents', 'Consequents', 'Support', 'Confidence']\n",
        "\n",
        "print(rules_filtered)\n",
        "\n",
        "end_time = time.time()\n",
        "print(\"Time taken: \", end_time - start_time, \" seconds\")"
      ]
    },
    {
      "cell_type": "markdown",
      "metadata": {
        "id": "Ew_wZKGRzc3-"
      },
      "source": [
        "# Implementing Apiori"
      ]
    },
    {
      "cell_type": "markdown",
      "metadata": {
        "id": "R6OSENb0dtxW"
      },
      "source": [
        "**Generating frequent items**"
      ]
    },
    {
      "cell_type": "code",
      "execution_count": 34,
      "metadata": {
        "colab": {
          "base_uri": "https://localhost:8080/"
        },
        "id": "DsImyhRzzfjC",
        "outputId": "fd19d14d-86ad-4a7c-b387-04b5d82bae9a"
      },
      "outputs": [
        {
          "name": "stdout",
          "output_type": "stream",
          "text": [
            "('pen',) 0.6666666666666666\n",
            "('cheese',) 0.8333333333333334\n",
            "('juice',) 0.6666666666666666\n",
            "('milk',) 0.6666666666666666\n",
            "('pen', 'cheese') 0.6666666666666666\n",
            "('milk', 'juice') 0.6666666666666666\n",
            "('milk', 'cheese') 0.5\n",
            "('juice', 'cheese') 0.5\n",
            "('milk', 'juice', 'cheese') 0.5\n"
          ]
        },
        {
          "name": "stderr",
          "output_type": "stream",
          "text": [
            "/usr/local/lib/python3.10/dist-packages/ipykernel/ipkernel.py:283: DeprecationWarning: `should_run_async` will not call `transform_cell` automatically in the future. Please pass the result to `transformed_cell` argument and any exception that happen during thetransform in `preprocessing_exc_tuple` in IPython 7.17 and above.\n",
            "  and should_run_async(code)\n"
          ]
        }
      ],
      "source": [
        "from itertools import combinations\n",
        "\n",
        "min_sup = support * len(transactions_list)\n",
        "freq_itemset_support = {}\n",
        "\n",
        "\n",
        "def count_item_freq(itemsets):\n",
        "  itemset_support = {}\n",
        "  for transaction in transactions_list:\n",
        "    for itemset in itemsets:\n",
        "      for item in itemset:\n",
        "        if item not in transaction:\n",
        "          break\n",
        "      else:\n",
        "        itemset_support[itemset] = itemset_support.get(itemset, 0) + 1\n",
        "  return itemset_support\n",
        "\n",
        "\n",
        "def prune_items(last_freq_itemset):\n",
        "  return {itemset:(sup/len(transactions_list)) for itemset,sup in last_freq_itemset.items() if sup >= min_sup}\n",
        "\n",
        "def make_n_itemset(n_itemset):\n",
        "  n = len(n_itemset[0])\n",
        "  return list(combinations(list(set(item for s in n_itemset for item in s)), n + 1))\n",
        "\n",
        "start_time = time.time()\n",
        "\n",
        "new_item_set_list = list(set((item,) for transaction in transactions_list for item in transaction))\n",
        "\n",
        "while new_item_set_list:\n",
        "  itemset_support = count_item_freq(new_item_set_list)\n",
        "  freq_itemsets = prune_items(itemset_support)\n",
        "  freq_itemset_support.update(freq_itemsets)\n",
        "  if len(freq_itemsets) == 0:\n",
        "    break\n",
        "  new_item_set_list = make_n_itemset(list(freq_itemsets.keys()))\n",
        "\n",
        "for itemset, sup in freq_itemset_support.items():\n",
        "  print(itemset, sup)"
      ]
    },
    {
      "cell_type": "markdown",
      "metadata": {
        "id": "T2kRxuebh2fV"
      },
      "source": [
        "**Mining Association Rules**"
      ]
    },
    {
      "cell_type": "code",
      "execution_count": 35,
      "metadata": {
        "colab": {
          "base_uri": "https://localhost:8080/"
        },
        "id": "IvMDzLI9h5mw",
        "outputId": "fab545a0-4b96-4c3e-cb86-8fe1f1b6865f"
      },
      "outputs": [
        {
          "name": "stdout",
          "output_type": "stream",
          "text": [
            "Rule  1 :  ('pen',) -> ('cheese',)\n",
            "Confidence:  100.0 %\n",
            "Support:  66.66666666666666 %\n",
            "\n",
            "\n",
            "Rule  2 :  ('cheese',) -> ('pen',)\n",
            "Confidence:  80.0 %\n",
            "Support:  66.66666666666666 %\n",
            "\n",
            "\n",
            "Rule  3 :  ('milk',) -> ('juice',)\n",
            "Confidence:  100.0 %\n",
            "Support:  66.66666666666666 %\n",
            "\n",
            "\n",
            "Rule  4 :  ('juice',) -> ('milk',)\n",
            "Confidence:  100.0 %\n",
            "Support:  66.66666666666666 %\n",
            "\n",
            "\n",
            "Rule  5 :  ('milk',) -> ('cheese',)\n",
            "Confidence:  75.0 %\n",
            "Support:  50.0 %\n",
            "\n",
            "\n",
            "Rule  6 :  ('cheese',) -> ('milk',)\n",
            "Confidence:  60.0 %\n",
            "Support:  50.0 %\n",
            "\n",
            "\n",
            "Rule  7 :  ('juice',) -> ('cheese',)\n",
            "Confidence:  75.0 %\n",
            "Support:  50.0 %\n",
            "\n",
            "\n",
            "Rule  8 :  ('cheese',) -> ('juice',)\n",
            "Confidence:  60.0 %\n",
            "Support:  50.0 %\n",
            "\n",
            "\n",
            "Rule  9 :  ('milk',) -> ('juice', 'cheese')\n",
            "Confidence:  75.0 %\n",
            "Support:  50.0 %\n",
            "\n",
            "\n",
            "Rule  10 :  ('juice',) -> ('milk', 'cheese')\n",
            "Confidence:  75.0 %\n",
            "Support:  50.0 %\n",
            "\n",
            "\n",
            "Rule  11 :  ('cheese',) -> ('juice', 'milk')\n",
            "Confidence:  60.0 %\n",
            "Support:  50.0 %\n",
            "\n",
            "\n",
            "Rule  12 :  ('milk', 'juice') -> ('cheese',)\n",
            "Confidence:  75.0 %\n",
            "Support:  50.0 %\n",
            "\n",
            "\n",
            "Rule  13 :  ('milk', 'cheese') -> ('juice',)\n",
            "Confidence:  100.0 %\n",
            "Support:  50.0 %\n",
            "\n",
            "\n",
            "Rule  14 :  ('juice', 'cheese') -> ('milk',)\n",
            "Confidence:  100.0 %\n",
            "Support:  50.0 %\n",
            "\n",
            "\n",
            "Time taken:  0.05206751823425293  seconds\n"
          ]
        },
        {
          "name": "stderr",
          "output_type": "stream",
          "text": [
            "/usr/local/lib/python3.10/dist-packages/ipykernel/ipkernel.py:283: DeprecationWarning: `should_run_async` will not call `transform_cell` automatically in the future. Please pass the result to `transformed_cell` argument and any exception that happen during thetransform in `preprocessing_exc_tuple` in IPython 7.17 and above.\n",
            "  and should_run_async(code)\n"
          ]
        }
      ],
      "source": [
        "index = 1\n",
        "for itemset, sup in freq_itemset_support.items():\n",
        "  if len(itemset) < 2:\n",
        "    continue\n",
        "  for i in range(1, len(itemset)):\n",
        "    for antecedent in combinations(itemset, i):\n",
        "      consequent = tuple(set(itemset) - set(antecedent))\n",
        "      conf = freq_itemset_support[itemset] / freq_itemset_support[antecedent]\n",
        "      if conf >= confidence:\n",
        "        print(\"Rule \", index, \": \", antecedent, \"->\", consequent)\n",
        "        print(\"Confidence: \", conf*100, \"%\")\n",
        "        print(\"Support: \", freq_itemset_support[itemset]*100, \"%\")\n",
        "        print(\"\\n\")\n",
        "        index += 1\n",
        "\n",
        "end_time = time.time()\n",
        "print(\"Time taken: \", end_time - start_time, \" seconds\")"
      ]
    }
  ],
  "metadata": {
    "colab": {
      "provenance": []
    },
    "kernelspec": {
      "display_name": "Python 3",
      "name": "python3"
    },
    "language_info": {
      "name": "python"
    }
  },
  "nbformat": 4,
  "nbformat_minor": 0
}
